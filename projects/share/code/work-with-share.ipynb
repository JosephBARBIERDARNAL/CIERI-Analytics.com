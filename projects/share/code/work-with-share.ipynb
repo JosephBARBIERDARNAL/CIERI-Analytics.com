{
 "cells": [
  {
   "cell_type": "code",
   "execution_count": 82,
   "metadata": {},
   "outputs": [],
   "source": [
    "import pandas as pd"
   ]
  },
  {
   "cell_type": "markdown",
   "metadata": {},
   "source": [
    "# Title\n",
    "\n",
    "## sub title\n",
    "\n",
    "[link](https://www.example.com)\n",
    "\n",
    "\n",
    "**bold** text."
   ]
  },
  {
   "cell_type": "code",
   "execution_count": 83,
   "metadata": {},
   "outputs": [],
   "source": [
    "br_dataframe = pd.read_stata('../../../../SHARE/data/sharew6_rel8-0-0_ALL_datasets_stata/sharew6_rel8-0-0_br.dta')\n",
    "dn_dataframe = pd.read_stata('../../../../SHARE/data/sharew6_rel8-0-0_ALL_datasets_stata/sharew6_rel8-0-0_dn.dta')\n",
    "ph_dataframe = pd.read_stata('../../../../SHARE/data/sharew6_rel8-0-0_ALL_datasets_stata/sharew6_rel8-0-0_ph.dta')"
   ]
  },
  {
   "cell_type": "code",
   "execution_count": 84,
   "metadata": {},
   "outputs": [],
   "source": [
    "merged_dataframe = pd.merge(br_dataframe, dn_dataframe, on = 'mergeid')\n",
    "merged_dataframe = pd.merge(merged_dataframe, ph_dataframe, on = 'mergeid')"
   ]
  },
  {
   "cell_type": "code",
   "execution_count": 85,
   "metadata": {},
   "outputs": [],
   "source": [
    "df = merged_dataframe[['dn014_', 'dn042_',\n",
    "                       'br002_', 'br015_',\n",
    "                       'ph003_', 'ph084_',\n",
    "                       'dn003_']]"
   ]
  },
  {
   "cell_type": "code",
   "execution_count": 86,
   "metadata": {},
   "outputs": [],
   "source": [
    "df = df.rename(columns={\n",
    "    'dn014_': 'MaritalStatus',\n",
    "    'dn042_': 'Gender',\n",
    "    'dn003_': 'YearOfBirth',\n",
    "    'br002_': 'Smoking',\n",
    "    'br015_': 'SportFrequency',\n",
    "    'ph003_': 'HealthSelfPerception',\n",
    "    'ph084_': 'Pain'\n",
    "})"
   ]
  },
  {
   "cell_type": "code",
   "execution_count": 87,
   "metadata": {},
   "outputs": [],
   "source": [
    "values_to_replace = [\n",
    "    \"Don't know\", \"Refusal\", \"Implausible value/suspected wrong\", \n",
    "    \"Not codable\", \"Not answered\", \"Not yet coded\", \"Not applicable\"\n",
    "]\n",
    "df.replace(values_to_replace, float('NaN'), inplace=True)"
   ]
  },
  {
   "cell_type": "code",
   "execution_count": 88,
   "metadata": {},
   "outputs": [
    {
     "data": {
      "text/plain": [
       "MaritalStatus           category\n",
       "Gender                  category\n",
       "Smoking                 category\n",
       "SportFrequency          category\n",
       "HealthSelfPerception    category\n",
       "Pain                    category\n",
       "YearOfBirth              float64\n",
       "dtype: object"
      ]
     },
     "execution_count": 88,
     "metadata": {},
     "output_type": "execute_result"
    }
   ],
   "source": [
    "column_types = {\n",
    "    'YearOfBirth': 'float',\n",
    "    'MaritalStatus': 'category',\n",
    "    'Gender': 'category',\n",
    "    'Smoking': 'category',\n",
    "    'SportFrequency': 'category',\n",
    "    'HealthSelfPerception': 'category',\n",
    "    'Pain': 'category'\n",
    "}\n",
    "\n",
    "df = df.astype(column_types)\n",
    "df.dtypes"
   ]
  },
  {
   "cell_type": "code",
   "execution_count": 89,
   "metadata": {},
   "outputs": [],
   "source": [
    "df['Age'] = 2021 - df['YearOfBirth']\n",
    "df.drop(['YearOfBirth'], axis=1, inplace=True)\n",
    "\n",
    "categorical_columns = df.select_dtypes(include=['category']).columns\n",
    "for col in categorical_columns:\n",
    "    df[col] = df[col].cat.add_categories('Unknown').fillna('Unknown')"
   ]
  },
  {
   "cell_type": "code",
   "execution_count": 91,
   "metadata": {},
   "outputs": [
    {
     "data": {
      "text/plain": [
       "Unknown                                    52155\n",
       "Married and living together with spouse    10555\n",
       "Widowed                                     2893\n",
       "Divorced                                    1127\n",
       "Never married                                833\n",
       "Registered partnership                       326\n",
       "Married, living separated from spouse        196\n",
       "Name: MaritalStatus, dtype: int64"
      ]
     },
     "execution_count": 91,
     "metadata": {},
     "output_type": "execute_result"
    }
   ],
   "source": [
    "df.MaritalStatus.value_counts()"
   ]
  },
  {
   "cell_type": "code",
   "execution_count": null,
   "metadata": {},
   "outputs": [],
   "source": []
  }
 ],
 "metadata": {
  "kernelspec": {
   "display_name": "Python 3",
   "language": "python",
   "name": "python3"
  },
  "language_info": {
   "codemirror_mode": {
    "name": "ipython",
    "version": 3
   },
   "file_extension": ".py",
   "mimetype": "text/x-python",
   "name": "python",
   "nbconvert_exporter": "python",
   "pygments_lexer": "ipython3",
   "version": "3.10.5"
  },
  "orig_nbformat": 4
 },
 "nbformat": 4,
 "nbformat_minor": 2
}
